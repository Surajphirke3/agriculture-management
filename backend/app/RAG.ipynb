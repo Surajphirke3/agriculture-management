{
 "cells": [
  {
   "cell_type": "code",
   "execution_count": 5,
   "metadata": {
    "ExecuteTime": {
     "end_time": "2025-01-28T16:37:18.498541Z",
     "start_time": "2025-01-28T16:37:18.495068Z"
    }
   },
   "outputs": [
    {
     "name": "stdout",
     "output_type": "stream",
     "text": [
      "Requirement already satisfied: tf-keras in c:\\users\\jain\\appdata\\local\\programs\\python\\python310\\lib\\site-packages (2.18.0)\n",
      "Requirement already satisfied: tensorflow<2.19,>=2.18 in c:\\users\\jain\\appdata\\local\\programs\\python\\python310\\lib\\site-packages (from tf-keras) (2.18.0)\n",
      "Requirement already satisfied: tensorflow-intel==2.18.0 in c:\\users\\jain\\appdata\\local\\programs\\python\\python310\\lib\\site-packages (from tensorflow<2.19,>=2.18->tf-keras) (2.18.0)\n",
      "Requirement already satisfied: absl-py>=1.0.0 in c:\\users\\jain\\appdata\\local\\programs\\python\\python310\\lib\\site-packages (from tensorflow-intel==2.18.0->tensorflow<2.19,>=2.18->tf-keras) (2.1.0)\n",
      "Requirement already satisfied: astunparse>=1.6.0 in c:\\users\\jain\\appdata\\local\\programs\\python\\python310\\lib\\site-packages (from tensorflow-intel==2.18.0->tensorflow<2.19,>=2.18->tf-keras) (1.6.3)\n",
      "Requirement already satisfied: flatbuffers>=24.3.25 in c:\\users\\jain\\appdata\\local\\programs\\python\\python310\\lib\\site-packages (from tensorflow-intel==2.18.0->tensorflow<2.19,>=2.18->tf-keras) (25.1.24)\n",
      "Requirement already satisfied: gast!=0.5.0,!=0.5.1,!=0.5.2,>=0.2.1 in c:\\users\\jain\\appdata\\local\\programs\\python\\python310\\lib\\site-packages (from tensorflow-intel==2.18.0->tensorflow<2.19,>=2.18->tf-keras) (0.6.0)\n",
      "Requirement already satisfied: google-pasta>=0.1.1 in c:\\users\\jain\\appdata\\local\\programs\\python\\python310\\lib\\site-packages (from tensorflow-intel==2.18.0->tensorflow<2.19,>=2.18->tf-keras) (0.2.0)\n",
      "Requirement already satisfied: libclang>=13.0.0 in c:\\users\\jain\\appdata\\local\\programs\\python\\python310\\lib\\site-packages (from tensorflow-intel==2.18.0->tensorflow<2.19,>=2.18->tf-keras) (18.1.1)\n",
      "Requirement already satisfied: opt-einsum>=2.3.2 in c:\\users\\jain\\appdata\\local\\programs\\python\\python310\\lib\\site-packages (from tensorflow-intel==2.18.0->tensorflow<2.19,>=2.18->tf-keras) (3.4.0)\n",
      "Requirement already satisfied: packaging in c:\\users\\jain\\appdata\\local\\programs\\python\\python310\\lib\\site-packages (from tensorflow-intel==2.18.0->tensorflow<2.19,>=2.18->tf-keras) (24.2)\n",
      "Requirement already satisfied: protobuf!=4.21.0,!=4.21.1,!=4.21.2,!=4.21.3,!=4.21.4,!=4.21.5,<6.0.0dev,>=3.20.3 in c:\\users\\jain\\appdata\\local\\programs\\python\\python310\\lib\\site-packages (from tensorflow-intel==2.18.0->tensorflow<2.19,>=2.18->tf-keras) (5.29.2)\n",
      "Requirement already satisfied: requests<3,>=2.21.0 in c:\\users\\jain\\appdata\\local\\programs\\python\\python310\\lib\\site-packages (from tensorflow-intel==2.18.0->tensorflow<2.19,>=2.18->tf-keras) (2.32.3)\n",
      "Requirement already satisfied: setuptools in c:\\users\\jain\\appdata\\local\\programs\\python\\python310\\lib\\site-packages (from tensorflow-intel==2.18.0->tensorflow<2.19,>=2.18->tf-keras) (57.4.0)\n",
      "Requirement already satisfied: six>=1.12.0 in c:\\users\\jain\\appdata\\local\\programs\\python\\python310\\lib\\site-packages (from tensorflow-intel==2.18.0->tensorflow<2.19,>=2.18->tf-keras) (1.17.0)\n",
      "Requirement already satisfied: termcolor>=1.1.0 in c:\\users\\jain\\appdata\\local\\programs\\python\\python310\\lib\\site-packages (from tensorflow-intel==2.18.0->tensorflow<2.19,>=2.18->tf-keras) (2.5.0)\n",
      "Requirement already satisfied: typing-extensions>=3.6.6 in c:\\users\\jain\\appdata\\local\\programs\\python\\python310\\lib\\site-packages (from tensorflow-intel==2.18.0->tensorflow<2.19,>=2.18->tf-keras) (4.12.2)\n",
      "Requirement already satisfied: wrapt>=1.11.0 in c:\\users\\jain\\appdata\\local\\programs\\python\\python310\\lib\\site-packages (from tensorflow-intel==2.18.0->tensorflow<2.19,>=2.18->tf-keras) (1.17.2)\n",
      "Requirement already satisfied: grpcio<2.0,>=1.24.3 in c:\\users\\jain\\appdata\\local\\programs\\python\\python310\\lib\\site-packages (from tensorflow-intel==2.18.0->tensorflow<2.19,>=2.18->tf-keras) (1.68.1)\n",
      "Requirement already satisfied: tensorboard<2.19,>=2.18 in c:\\users\\jain\\appdata\\local\\programs\\python\\python310\\lib\\site-packages (from tensorflow-intel==2.18.0->tensorflow<2.19,>=2.18->tf-keras) (2.18.0)\n",
      "Requirement already satisfied: keras>=3.5.0 in c:\\users\\jain\\appdata\\local\\programs\\python\\python310\\lib\\site-packages (from tensorflow-intel==2.18.0->tensorflow<2.19,>=2.18->tf-keras) (3.8.0)\n",
      "Requirement already satisfied: numpy<2.1.0,>=1.26.0 in c:\\users\\jain\\appdata\\local\\programs\\python\\python310\\lib\\site-packages (from tensorflow-intel==2.18.0->tensorflow<2.19,>=2.18->tf-keras) (1.26.4)\n",
      "Requirement already satisfied: h5py>=3.11.0 in c:\\users\\jain\\appdata\\local\\programs\\python\\python310\\lib\\site-packages (from tensorflow-intel==2.18.0->tensorflow<2.19,>=2.18->tf-keras) (3.12.1)\n",
      "Requirement already satisfied: ml-dtypes<0.5.0,>=0.4.0 in c:\\users\\jain\\appdata\\local\\programs\\python\\python310\\lib\\site-packages (from tensorflow-intel==2.18.0->tensorflow<2.19,>=2.18->tf-keras) (0.4.1)\n",
      "Requirement already satisfied: tensorflow-io-gcs-filesystem>=0.23.1 in c:\\users\\jain\\appdata\\local\\programs\\python\\python310\\lib\\site-packages (from tensorflow-intel==2.18.0->tensorflow<2.19,>=2.18->tf-keras) (0.31.0)\n",
      "Requirement already satisfied: wheel<1.0,>=0.23.0 in c:\\users\\jain\\appdata\\local\\programs\\python\\python310\\lib\\site-packages (from astunparse>=1.6.0->tensorflow-intel==2.18.0->tensorflow<2.19,>=2.18->tf-keras) (0.45.1)\n",
      "Requirement already satisfied: rich in c:\\users\\jain\\appdata\\local\\programs\\python\\python310\\lib\\site-packages (from keras>=3.5.0->tensorflow-intel==2.18.0->tensorflow<2.19,>=2.18->tf-keras) (13.9.4)\n",
      "Requirement already satisfied: namex in c:\\users\\jain\\appdata\\local\\programs\\python\\python310\\lib\\site-packages (from keras>=3.5.0->tensorflow-intel==2.18.0->tensorflow<2.19,>=2.18->tf-keras) (0.0.8)\n",
      "Requirement already satisfied: optree in c:\\users\\jain\\appdata\\local\\programs\\python\\python310\\lib\\site-packages (from keras>=3.5.0->tensorflow-intel==2.18.0->tensorflow<2.19,>=2.18->tf-keras) (0.14.0)\n",
      "Requirement already satisfied: charset-normalizer<4,>=2 in c:\\users\\jain\\appdata\\local\\programs\\python\\python310\\lib\\site-packages (from requests<3,>=2.21.0->tensorflow-intel==2.18.0->tensorflow<2.19,>=2.18->tf-keras) (3.4.1)\n",
      "Requirement already satisfied: idna<4,>=2.5 in c:\\users\\jain\\appdata\\local\\programs\\python\\python310\\lib\\site-packages (from requests<3,>=2.21.0->tensorflow-intel==2.18.0->tensorflow<2.19,>=2.18->tf-keras) (3.10)\n",
      "Requirement already satisfied: urllib3<3,>=1.21.1 in c:\\users\\jain\\appdata\\local\\programs\\python\\python310\\lib\\site-packages (from requests<3,>=2.21.0->tensorflow-intel==2.18.0->tensorflow<2.19,>=2.18->tf-keras) (2.3.0)\n",
      "Requirement already satisfied: certifi>=2017.4.17 in c:\\users\\jain\\appdata\\local\\programs\\python\\python310\\lib\\site-packages (from requests<3,>=2.21.0->tensorflow-intel==2.18.0->tensorflow<2.19,>=2.18->tf-keras) (2024.12.14)\n",
      "Requirement already satisfied: markdown>=2.6.8 in c:\\users\\jain\\appdata\\local\\programs\\python\\python310\\lib\\site-packages (from tensorboard<2.19,>=2.18->tensorflow-intel==2.18.0->tensorflow<2.19,>=2.18->tf-keras) (3.7)\n",
      "Requirement already satisfied: tensorboard-data-server<0.8.0,>=0.7.0 in c:\\users\\jain\\appdata\\local\\programs\\python\\python310\\lib\\site-packages (from tensorboard<2.19,>=2.18->tensorflow-intel==2.18.0->tensorflow<2.19,>=2.18->tf-keras) (0.7.2)\n",
      "Requirement already satisfied: werkzeug>=1.0.1 in c:\\users\\jain\\appdata\\local\\programs\\python\\python310\\lib\\site-packages (from tensorboard<2.19,>=2.18->tensorflow-intel==2.18.0->tensorflow<2.19,>=2.18->tf-keras) (3.1.3)\n",
      "Requirement already satisfied: MarkupSafe>=2.1.1 in c:\\users\\jain\\appdata\\local\\programs\\python\\python310\\lib\\site-packages (from werkzeug>=1.0.1->tensorboard<2.19,>=2.18->tensorflow-intel==2.18.0->tensorflow<2.19,>=2.18->tf-keras) (3.0.2)\n",
      "Requirement already satisfied: markdown-it-py>=2.2.0 in c:\\users\\jain\\appdata\\local\\programs\\python\\python310\\lib\\site-packages (from rich->keras>=3.5.0->tensorflow-intel==2.18.0->tensorflow<2.19,>=2.18->tf-keras) (3.0.0)\n",
      "Requirement already satisfied: pygments<3.0.0,>=2.13.0 in c:\\users\\jain\\appdata\\local\\programs\\python\\python310\\lib\\site-packages (from rich->keras>=3.5.0->tensorflow-intel==2.18.0->tensorflow<2.19,>=2.18->tf-keras) (2.19.1)\n",
      "Requirement already satisfied: mdurl~=0.1 in c:\\users\\jain\\appdata\\local\\programs\\python\\python310\\lib\\site-packages (from markdown-it-py>=2.2.0->rich->keras>=3.5.0->tensorflow-intel==2.18.0->tensorflow<2.19,>=2.18->tf-keras) (0.1.2)\n",
      "Note: you may need to restart the kernel to use updated packages.\n"
     ]
    },
    {
     "name": "stderr",
     "output_type": "stream",
     "text": [
      "\n",
      "[notice] A new release of pip is available: 24.3.1 -> 25.0\n",
      "[notice] To update, run: python.exe -m pip install --upgrade pip\n"
     ]
    }
   ],
   "source": [
    "%pip install tf-keras\n",
    "\n",
    "from langchain_community.document_loaders import PyPDFLoader\n",
    "from langchain_text_splitters import RecursiveCharacterTextSplitter\n",
    "from sentence_transformers import SentenceTransformer\n",
    "import chromadb\n"
   ]
  },
  {
   "cell_type": "code",
   "execution_count": 6,
   "metadata": {
    "ExecuteTime": {
     "end_time": "2025-01-28T17:11:12.585094Z",
     "start_time": "2025-01-28T17:11:05.863787Z"
    }
   },
   "outputs": [],
   "source": [
    "#input_file = \"maharashtra_data.csv\"\n",
    "#Docs = pd.read_csv(input_file)\n",
    "loader = PyPDFLoader(\"i3325e.pdf\")\n",
    "Docs = loader.load()"
   ]
  },
  {
   "cell_type": "code",
   "execution_count": 7,
   "metadata": {
    "ExecuteTime": {
     "end_time": "2025-01-28T17:10:53.923398Z",
     "start_time": "2025-01-28T17:10:53.889003Z"
    }
   },
   "outputs": [],
   "source": [
    "text_splitter = RecursiveCharacterTextSplitter(chunk_size = 1000,chunk_overlap = 0)\n",
    "chunks = text_splitter.split_documents(Docs)\n",
    "\n"
   ]
  },
  {
   "cell_type": "code",
   "execution_count": 8,
   "metadata": {
    "ExecuteTime": {
     "end_time": "2025-01-28T16:54:36.750364Z",
     "start_time": "2025-01-28T16:54:36.744081Z"
    }
   },
   "outputs": [
    {
     "name": "stdout",
     "output_type": "stream",
     "text": [
      "<class 'list'>\n",
      "<class 'langchain_core.documents.base.Document'>\n",
      "<class 'str'>\n"
     ]
    }
   ],
   "source": [
    "print(type(chunks))\n",
    "print(type(chunks[0]))\n",
    "text_chunk = [chunk.page_content for chunk in chunks]\n",
    "print(type(text_chunk[0]))"
   ]
  },
  {
   "cell_type": "code",
   "execution_count": 9,
   "metadata": {
    "ExecuteTime": {
     "end_time": "2025-01-28T17:00:22.501145Z",
     "start_time": "2025-01-28T16:58:36.532384Z"
    }
   },
   "outputs": [],
   "source": [
    "res = SentenceTransformer(\"all-MiniLM-L6-v2\")\n",
    "embeddings = res.encode(text_chunk)"
   ]
  },
  {
   "cell_type": "code",
   "execution_count": 10,
   "metadata": {
    "ExecuteTime": {
     "end_time": "2025-01-28T17:00:27.048485Z",
     "start_time": "2025-01-28T17:00:27.039457Z"
    }
   },
   "outputs": [
    {
     "name": "stdout",
     "output_type": "stream",
     "text": [
      "[ 5.67397773e-02 -9.08005759e-02  6.88941032e-02  4.00673263e-02\n",
      "  9.30374563e-02 -3.07192951e-02 -1.75422821e-02 -5.53416200e-02\n",
      "  1.21342838e-02 -2.31432449e-02  2.60299351e-02 -4.38701995e-02\n",
      " -5.71108609e-02 -5.10607772e-02 -6.90211877e-02 -9.98858735e-03\n",
      "  2.95174699e-02 -1.89362112e-02 -6.86524287e-02 -7.34587908e-02\n",
      "  9.49105173e-02  3.08655333e-02  1.54499635e-02  3.63667458e-02\n",
      " -1.99430380e-02 -6.43553957e-02 -2.26059258e-02 -1.23603772e-02\n",
      " -3.12908031e-02 -1.09654199e-02 -3.17397937e-02 -1.06219361e-02\n",
      "  5.48833609e-02  2.17009615e-02 -1.69888530e-02  1.07967304e-02\n",
      "  1.34988636e-01 -7.91748147e-03  3.13588942e-04 -9.86388605e-03\n",
      " -1.09062651e-02 -7.86580220e-02  4.13224995e-02 -4.58408222e-02\n",
      " -6.32772222e-02  3.89286131e-02 -1.37849199e-02 -3.89040820e-02\n",
      " -1.21909499e-01 -1.93848112e-03  7.06829652e-02  4.04629782e-02\n",
      " -3.51075493e-02 -1.36630051e-02  5.86281903e-02 -7.74825588e-02\n",
      " -3.45220342e-02 -5.38882501e-02 -3.22068594e-02  9.51288734e-03\n",
      " -1.56987943e-02 -5.00379950e-02 -7.37512037e-02  1.96682755e-02\n",
      "  7.38268271e-02  2.26842072e-02  2.17224341e-02  9.51427128e-03\n",
      " -9.91343036e-02 -4.31521200e-02  8.91984813e-03 -1.28803432e-01\n",
      " -3.30365598e-02 -7.76695162e-02 -1.19770449e-02  5.33935949e-02\n",
      "  1.30701121e-02 -2.44296640e-02  1.18846662e-01 -8.21388364e-02\n",
      "  6.15974478e-02  7.94740394e-02  1.18015166e-02  2.27676183e-02\n",
      "  9.69998911e-03 -5.58638610e-02 -1.63762234e-02  3.64912972e-02\n",
      " -2.14638598e-02  2.54409853e-02  9.31393355e-03 -4.89055142e-02\n",
      "  1.11415789e-01  1.57794356e-02  1.30490388e-03  6.60574958e-02\n",
      " -3.13246460e-03 -6.65975958e-02  5.47332168e-02 -5.49969077e-02\n",
      "  7.59512465e-03  5.79571016e-02 -6.48532137e-02  2.43154094e-02\n",
      " -6.07638806e-02  1.34768488e-03 -5.56972884e-02  3.95407192e-02\n",
      "  5.30587658e-02  3.36271077e-02 -2.88196094e-02  6.52203709e-02\n",
      " -5.30360676e-02 -8.38947743e-02 -6.66831359e-02 -6.02201447e-02\n",
      "  5.96340336e-02 -1.02748439e-01  1.86963156e-02 -8.13887343e-02\n",
      "  1.27148423e-02  5.47167733e-02  7.57378293e-03  4.03113328e-02\n",
      "  4.23098132e-02 -1.47210332e-02 -2.13561486e-02  3.03613311e-33\n",
      " -7.86472186e-02 -2.25077067e-02  1.22110382e-01 -8.76425505e-02\n",
      "  3.18655223e-02 -1.54937562e-02 -8.14196542e-02 -5.06965118e-03\n",
      "  1.00466818e-01  5.27803376e-02 -5.50700817e-04  2.24724077e-02\n",
      " -2.30128802e-02 -6.40046224e-03  3.41849774e-02  4.37892824e-02\n",
      " -8.81174672e-03  2.60600690e-02  1.29300887e-02 -2.22452898e-02\n",
      " -6.72903880e-02 -3.55253033e-02  7.76302740e-02  5.95758520e-02\n",
      "  3.70460562e-02 -2.39100866e-02  2.84875985e-02  1.05519658e-02\n",
      " -1.58639494e-02  1.64536424e-02  1.21383749e-01 -5.10631688e-03\n",
      " -1.06574744e-02 -1.29902177e-02 -6.64680749e-02 -4.32471409e-02\n",
      " -5.18549187e-03  2.01532543e-02 -5.05602807e-02  7.93251023e-02\n",
      "  1.70685966e-02  9.69849527e-03  7.35708997e-02 -7.45887682e-03\n",
      " -4.38664854e-03  6.86039962e-03 -1.79980639e-02  9.36841127e-03\n",
      "  6.47026449e-02  6.12941310e-02 -2.04869024e-02 -3.24208260e-04\n",
      "  6.01810869e-03 -6.59738556e-02  2.63866968e-02  7.91398808e-03\n",
      " -5.05771255e-03 -3.03919315e-02 -4.60220547e-03 -1.14946216e-02\n",
      " -4.07530554e-02  1.40545592e-01  4.13153805e-02  6.85456907e-03\n",
      "  7.42752105e-04  1.00819045e-03  3.43376712e-04 -2.49686115e-03\n",
      " -5.28411753e-02  1.19969003e-01  2.81369109e-02  1.34205623e-02\n",
      " -2.63523939e-03  3.50483134e-02 -8.02293234e-03 -3.60262347e-03\n",
      " -6.24986552e-02 -3.25307548e-02 -1.23966485e-02  7.51003399e-02\n",
      " -8.02455768e-02  2.50146650e-02  2.94728391e-02 -2.40619704e-02\n",
      " -5.99534251e-02 -1.32776164e-02 -3.06685530e-02  1.44554274e-02\n",
      "  1.20611019e-01  8.65244791e-02 -1.68885998e-02 -7.70272613e-02\n",
      " -3.64468410e-03  5.47580719e-02  6.31541654e-04 -4.04894143e-33\n",
      "  8.52509309e-03  9.43303257e-02  1.06097087e-01  5.77547878e-04\n",
      "  3.61777768e-02 -8.69582966e-02  2.32933927e-02 -1.65893274e-04\n",
      "  6.04551658e-02  4.45164889e-02 -2.99603082e-02  9.60161760e-02\n",
      "  1.15646664e-02  5.83027266e-02  8.54084790e-02  2.57886946e-02\n",
      " -4.04928392e-03 -2.30259094e-02 -2.33612750e-02 -1.48486281e-02\n",
      " -8.47313739e-03 -9.50099230e-02  7.58761168e-02  9.15621892e-02\n",
      " -1.39929121e-02  1.26963991e-04  1.86888631e-02 -6.69557310e-04\n",
      "  7.40209371e-02 -1.41782820e-01 -2.05942541e-02  5.91894276e-02\n",
      " -1.33049963e-02  1.83312092e-02 -7.32716918e-02 -2.59840768e-02\n",
      " -6.15913654e-03  1.37906093e-02  3.78525490e-03 -4.88437600e-02\n",
      "  1.54266590e-02 -1.01589179e-02 -3.37362178e-02  1.77309718e-02\n",
      " -2.80336533e-02  2.44305581e-02 -3.06034219e-02 -2.42539141e-02\n",
      "  6.60464242e-02 -8.59772116e-02  5.99780045e-02  7.02622980e-02\n",
      " -1.29384235e-01 -3.45750153e-02  2.02822201e-02  4.52526957e-02\n",
      "  5.52837737e-02  7.30513483e-02 -2.21037362e-02 -7.09559172e-02\n",
      " -5.06071793e-03  3.85929979e-02  1.35970339e-02  3.04809101e-02\n",
      "  2.11338513e-02  4.56515849e-02  4.66517173e-02 -3.96157987e-02\n",
      " -2.24987529e-02  9.27674933e-04 -5.60372472e-02  5.67841856e-03\n",
      " -3.12899724e-02 -9.53362584e-02 -4.59331349e-02 -1.14265420e-02\n",
      "  4.47318517e-03 -8.83397907e-02 -3.76135949e-03  1.45977642e-02\n",
      "  5.20289503e-02 -3.84204723e-02 -1.51334479e-02  4.41083275e-02\n",
      "  3.43204290e-02 -5.24890050e-02 -1.55490567e-03  2.71846540e-02\n",
      "  4.07558382e-02  1.33154720e-01 -1.37939379e-01  1.08222282e-02\n",
      " -2.58093923e-02 -2.22636834e-02  2.67917980e-02 -3.55132279e-08\n",
      " -1.06558623e-03 -3.86774652e-02  3.99781130e-02 -1.87049545e-02\n",
      "  3.83685017e-03  1.83524862e-02  1.77195519e-02  6.45209327e-02\n",
      "  6.56486489e-03  8.04503113e-02 -7.54270097e-03  3.82682458e-02\n",
      "  2.87689548e-03 -1.05684216e-03 -4.14538942e-02 -4.64528836e-02\n",
      " -2.97545437e-02  2.28364067e-03  2.12407075e-02 -5.93640516e-03\n",
      " -3.37492190e-02  7.78893977e-02 -5.55466339e-02 -2.12425534e-02\n",
      " -3.85804176e-02 -3.39230821e-02  1.75909977e-02  1.23210009e-02\n",
      "  1.26796486e-02  9.49815195e-03  8.25859606e-02  3.64595503e-02\n",
      " -3.17952149e-02 -3.24156508e-02 -5.16725183e-02 -6.43824413e-02\n",
      " -4.91041504e-02  2.50546746e-02 -1.00258691e-02 -4.81936745e-02\n",
      " -4.46530432e-03 -1.73375849e-02 -1.73024796e-02  1.56530272e-02\n",
      " -7.02722967e-02  1.42289372e-02 -1.82025999e-01  8.21528435e-02\n",
      "  2.17144676e-02  4.25883569e-02  3.72630134e-02 -1.01604439e-01\n",
      "  5.85310534e-02 -4.63150702e-02 -1.20447911e-02 -1.03006594e-01\n",
      "  9.41452831e-02 -8.48443881e-02  1.70015972e-02 -1.64985955e-02\n",
      "  9.66015011e-02 -5.74391522e-02  4.20579128e-02 -9.64974239e-03]\n"
     ]
    },
    {
     "data": {
      "text/plain": [
       "2094"
      ]
     },
     "execution_count": 10,
     "metadata": {},
     "output_type": "execute_result"
    }
   ],
   "source": [
    "print(embeddings[600])\n",
    "len(embeddings)"
   ]
  },
  {
   "cell_type": "code",
   "execution_count": 12,
   "metadata": {
    "ExecuteTime": {
     "end_time": "2025-01-28T18:42:48.043402Z",
     "start_time": "2025-01-28T18:42:37.984036Z"
    }
   },
   "outputs": [],
   "source": [
    "client = chromadb.PersistentClient(path='database')\n",
    "collection  =client.get_or_create_collection('collection')\n",
    "\n",
    "ids = [f\"doc_{i}\" for i in range(len(embeddings))]\n",
    "\n",
    "# Define the maximum batch size\n",
    "max_batch_size = 166\n",
    "\n",
    "# Split the data into smaller batches\n",
    "for i in range(0, len(embeddings), max_batch_size):\n",
    "\tbatch_ids = ids[i:i + max_batch_size]\n",
    "\tbatch_documents = text_chunk[i:i + max_batch_size]\n",
    "\tbatch_embeddings = embeddings[i:i + max_batch_size]\n",
    "\tcollection.add(ids=batch_ids, documents=batch_documents, embeddings=batch_embeddings)"
   ]
  },
  {
   "cell_type": "code",
   "execution_count": 9,
   "metadata": {},
   "outputs": [
    {
     "data": {
      "text/plain": [
       "2094"
      ]
     },
     "execution_count": 9,
     "metadata": {},
     "output_type": "execute_result"
    }
   ],
   "source": [
    "collection.peek()\n",
    "collection.count()"
   ]
  },
  {
   "cell_type": "code",
   "execution_count": 13,
   "metadata": {},
   "outputs": [
    {
     "name": "stdout",
     "output_type": "stream",
     "text": [
      "page_content='Restoring degraded soils for climate change resilience 123\n",
      "   Adaptive management capacity  123\n",
      "4.5 Conclusions  124\n",
      "Notes      124\n",
      "Acronyms      125\n",
      "References      126\n",
      "Additional Resources   131\n",
      "Annex       132\n",
      "A.4.1  Soil management for sustained crop productivity \n",
      "and climate change adaptation and mitigation  132\n",
      "List of Figures\n",
      "Figure 4.1 Definition of soil. Soils contribute to a range of vital ecosystem services and functions  109\n",
      "Figure 4.2 Provision of ecosystem services and functions by soils.  110\n",
      "Figure 4.3 Organic matter turnover  110\n",
      "Figure 4.4 Estimates of global soil organic carbon (t/ha of carbon) \n",
      "from amended Harmonized World Soil Database  114\n",
      "Figure 4.5 Soil principles for climate change adaptation and mitigation, and enhancing resilience  114\n",
      "List of Tables\n",
      "Table 5.1 Capacity of a soil with a bulk density of 1.2 g/cm3 to store water \n",
      "as affected by SOC content to 30 cm soil depth.  117\n",
      "List of Boxes\n",
      "Box 4.1 Carbon and SOM  117\n",
      "Box 4.2 Inorganic fertilizers  119' metadata={'source': 'i3325e.pdf', 'page': 119, 'page_label': '120'}\n"
     ]
    },
    {
     "data": {
      "text/plain": [
       "2094"
      ]
     },
     "execution_count": 13,
     "metadata": {},
     "output_type": "execute_result"
    }
   ],
   "source": [
    "print(chunks[455])\n",
    "len(chunks)"
   ]
  },
  {
   "cell_type": "code",
   "execution_count": 15,
   "metadata": {},
   "outputs": [],
   "source": [
    "from dotenv import load_dotenv\n",
    "# import os\n",
    "from mistralai import Mistral\n",
    "\n",
    "model = Mistral()\n",
    "\n",
    "# load_dotenv()  # Load environment variables\n",
    "\n",
    "# api_key = os.getenv(\"D:/Programs/Nirman_2025/Enviroment.env\")\n",
    "# db_user = os.getenv(\"DB_USER\")\n",
    "# db_pass = os.getenv(\"DB_PASS\")\n",
    "\n",
    "# print(api_key, db_user, db_pass)\n"
   ]
  },
  {
   "cell_type": "code",
   "execution_count": 54,
   "metadata": {},
   "outputs": [],
   "source": [
    "'''\n",
    "Query = \"what type of soil is reqquired for crop\"\n",
    "results = collection.query(\n",
    "    query_texts= Query, # Chroma will embed this for you\n",
    "    n_results=20 # how many results to return\n",
    ")\n",
    "\n",
    "print(results)'''\n",
    "Query  =\"HOw to imporve soil fertility? \"\n",
    "query_embedding = res.encode([Query])\n",
    "results = collection.query(embeddings[0])"
   ]
  },
  {
   "cell_type": "code",
   "execution_count": 20,
   "metadata": {},
   "outputs": [],
   "source": [
    "'''from mistralai import Mistral\n",
    "from langchain_mistralai.chat_models import ChatMistralAI\n",
    "from langchain import VectorDBQA, PromptTemplate\n",
    "\n",
    "geneartor = Mistral()\n",
    "\n",
    "template = PromptTemplate(input_variables=[\"question\"],\n",
    "    template=\"Answer the following question: {Query}\")\n",
    "#qa_pipeline =  VectorDBQA(vector_store=collection, embeddings_model = res , prompt_template = template, language_model = geneartor)\n",
    "response = qa_pipeline(Query)\n",
    "\n",
    "print(response)'''\n",
    "import os\n",
    "from langchain_mistralai.chat_models import ChatMistralAI\n",
    "\n",
    "# Set your Mistral AI API key (Replace \"your-api-key\" with your actual key)\n",
    "os.environ[\"MISTRAL_API_KEY\"] = \"236mWUjffs24Rg2pkQNfQiJNxg9EUxNO\"\n",
    "\n",
    "def generate_response(prompt: str, model_name: str = \"mistral-small\", temperature: float = 0.7) -> str:\n",
    "    \"\"\"\n",
    "    Generate a response using the Mistral AI model.\n",
    "\n",
    "    Args:\n",
    "        prompt (str): The input question or prompt.\n",
    "        model_name (str): The Mistral model to use (default: \"mistral-small\").\n",
    "        temperature (float): The temperature setting for creativity (default: 0.7).\n",
    "\n",
    "    Returns:\n",
    "        str: The generated response from Mistral AI.\n",
    "    \"\"\"\n",
    "    try:\n",
    "        # Initialize Mistral AI model with API key\n",
    "        generator = ChatMistralAI(\n",
    "            model=model_name,  # Model name (e.g., \"mistral-small\")\n",
    "            temperature=temperature,\n",
    "            mistral_api_key=os.getenv(\"MISTRAL_API_KEY\")  # Fetch API key from env variable\n",
    "        )\n",
    "\n",
    "        # Generate and return the response\n",
    "        response = generator.predict(prompt)\n",
    "        return response\n",
    "    except Exception as e:\n",
    "        return f\"Error: {e}\"\n",
    "\n",
    "# Example usage\n",
    "# if __name__ == \"__main__\":\n",
    "#     user_prompt = \"How to imporve fertility in soil\"\n",
    "#     response = generate_response(prompt=user_prompt)\n",
    "#     print(\"Generated Response:\", response)\n"
   ]
  },
  {
   "cell_type": "code",
   "execution_count": 23,
   "metadata": {},
   "outputs": [
    {
     "name": "stdout",
     "output_type": "stream",
     "text": [
      "Generated Response: In a low moisture and harsh winter season, it is essential to choose crops that are drought-tolerant and can withstand cold temperatures. Here are some crops that you might consider growing:\n",
      "\n",
      "1. Winter Wheat: Winter wheat is a variety of wheat that is planted in the fall and harvested in the spring. It is more cold-tolerant than spring wheat and can survive in low moisture conditions.\n",
      "2. Barley: Barley is a hardy crop that can tolerate cold temperatures and low moisture levels. It is often used as a cover crop to prevent erosion and improve soil health.\n",
      "3. Oats: Oats are another crop that can tolerate cold temperatures and low moisture levels. They are often used as a cover crop or for livestock feed.\n",
      "4. Alfalfa: Alfalfa is a perennial legume that is drought-tolerant and can survive in cold temperatures. It is often used as a hay crop or for livestock feed.\n",
      "5. Winter Rye: Winter rye is a cereal grain that is planted in the fall and harvested in the spring. It is more cold-tolerant than other grains and can survive in low moisture conditions.\n",
      "6. Sweet Potatoes: Sweet potatoes are a root crop that can tolerate drought conditions. They are often planted in the spring and harvested in the fall.\n",
      "7. Dry Beans: Dry beans are a legume that can tolerate drought conditions and cold temperatures. They are often used as a protein source in vegetarian diets.\n",
      "8. Garlic: Garlic is a hardy crop that can tolerate cold temperatures and low moisture levels. It is often planted in the fall and harvested in the summer.\n",
      "9. Potatoes: Potatoes are a root crop that can tolerate drought conditions. They are often planted in the spring and harvested in the fall.\n",
      "10. Carrots: Carrots are a root crop that can tolerate drought conditions. They are often planted in the spring and harvested in the fall.\n",
      "\n",
      "When growing crops in low moisture and harsh winter conditions, it is essential to choose varieties that are well-suited to your specific climate and soil conditions. It is also important to practice good water management techniques, such as drip irrigation and mulching, to conserve moisture and protect the soil.\n"
     ]
    }
   ],
   "source": [
    "# Example: Input prompt\n",
    "prompt = \"which crops to grow in low moisture and harsh winter season?\"\n",
    "\n",
    "# Call the function\n",
    "response = generate_response(prompt=prompt)\n",
    "\n",
    "# Display the response\n",
    "print(\"Generated Response:\", response)\n"
   ]
  }
 ],
 "metadata": {
  "kernelspec": {
   "display_name": "Python 3",
   "language": "python",
   "name": "python3"
  },
  "language_info": {
   "codemirror_mode": {
    "name": "ipython",
    "version": 3
   },
   "file_extension": ".py",
   "mimetype": "text/x-python",
   "name": "python",
   "nbconvert_exporter": "python",
   "pygments_lexer": "ipython3",
   "version": "3.10.0"
  }
 },
 "nbformat": 4,
 "nbformat_minor": 2
}
